{
 "cells": [
  {
   "cell_type": "code",
   "execution_count": 1,
   "id": "e051aafc",
   "metadata": {},
   "outputs": [
    {
     "name": "stdout",
     "output_type": "stream",
     "text": [
      "Collecting python-dotenv==0.19.2\n",
      "  Downloading python_dotenv-0.19.2-py2.py3-none-any.whl (17 kB)\n",
      "Installing collected packages: python-dotenv\n",
      "Successfully installed python-dotenv-0.19.2\n"
     ]
    }
   ],
   "source": [
    "!pip install python-dotenv==0.19.2"
   ]
  },
  {
   "cell_type": "code",
   "execution_count": 2,
   "id": "f3231a42",
   "metadata": {},
   "outputs": [],
   "source": [
    "import os\n",
    "import requests\n",
    "from dotenv import load_dotenv\n",
    "\n",
    "load_dotenv()\n",
    "\n",
    "API_KEY = os.environ.get(\"API_KEY\")\n",
    "TOKEN = os.environ.get(\"TOKEN\")"
   ]
  },
  {
   "cell_type": "code",
   "execution_count": 3,
   "id": "65891e39",
   "metadata": {},
   "outputs": [],
   "source": [
    "# Cria uma sessão\n",
    "session = requests.Session()\n",
    "\n",
    "# Adiciona parâmetros comuns em toda as requisições\n",
    "session.params = {\n",
    "    'key': API_KEY,\n",
    "    'token': TOKEN,\n",
    "}"
   ]
  },
  {
   "cell_type": "code",
   "execution_count": 4,
   "id": "b07bf219",
   "metadata": {},
   "outputs": [],
   "source": [
    "# Parâmetro para ser enviado pela url\n",
    "parameters = {\n",
    "    # Campos que queremos obter as informações\n",
    "    'fields': ['name', 'url']\n",
    "}\n",
    "\n",
    "# Requisição\n",
    "response = session.get(f'https://api.trello.com/1/members/me/boards', params=parameters)"
   ]
  },
  {
   "cell_type": "code",
   "execution_count": 7,
   "id": "257dd53c",
   "metadata": {},
   "outputs": [
    {
     "ename": "TypeError",
     "evalue": "string indices must be integers",
     "output_type": "error",
     "traceback": [
      "\u001b[0;31m---------------------------------------------------------------------------\u001b[0m",
      "\u001b[0;31mTypeError\u001b[0m                                 Traceback (most recent call last)",
      "Cell \u001b[0;32mIn[7], line 9\u001b[0m\n\u001b[1;32m      6\u001b[0m \u001b[38;5;66;03m# Percorre a lista de dicionários\u001b[39;00m\n\u001b[1;32m      7\u001b[0m \u001b[38;5;28;01mfor\u001b[39;00m board \u001b[38;5;129;01min\u001b[39;00m data:\n\u001b[1;32m      8\u001b[0m     \u001b[38;5;66;03m# Imprime as informações de cada dicionário\u001b[39;00m\n\u001b[0;32m----> 9\u001b[0m     \u001b[38;5;28mprint\u001b[39m(\u001b[38;5;124mf\u001b[39m\u001b[38;5;124m'\u001b[39m\u001b[38;5;124mName: \u001b[39m\u001b[38;5;132;01m{\u001b[39;00mboard[\u001b[38;5;124m\"\u001b[39m\u001b[38;5;124mname\u001b[39m\u001b[38;5;124m\"\u001b[39m]\u001b[38;5;132;01m}\u001b[39;00m\u001b[38;5;124m'\u001b[39m)\n\u001b[1;32m     10\u001b[0m     \u001b[38;5;28mprint\u001b[39m(\u001b[38;5;124mf\u001b[39m\u001b[38;5;124m'\u001b[39m\u001b[38;5;124mURL: \u001b[39m\u001b[38;5;132;01m{\u001b[39;00mboard[\u001b[38;5;124m\"\u001b[39m\u001b[38;5;124murl\u001b[39m\u001b[38;5;124m\"\u001b[39m]\u001b[38;5;132;01m}\u001b[39;00m\u001b[38;5;124m'\u001b[39m)\n\u001b[1;32m     11\u001b[0m     \u001b[38;5;28mprint\u001b[39m(\u001b[38;5;124mf\u001b[39m\u001b[38;5;124m'\u001b[39m\u001b[38;5;124mID: \u001b[39m\u001b[38;5;132;01m{\u001b[39;00mboard[\u001b[38;5;124m\"\u001b[39m\u001b[38;5;124mid\u001b[39m\u001b[38;5;124m\"\u001b[39m]\u001b[38;5;132;01m}\u001b[39;00m\u001b[38;5;124m'\u001b[39m)\n",
      "\u001b[0;31mTypeError\u001b[0m: string indices must be integers"
     ]
    }
   ],
   "source": [
    "# Checa se requisição foi bem sucedida\n",
    "if response.status_code == 200:\n",
    "    # Lista de dicionário contendo os os dados da resposta\n",
    "    data = response.json()\n",
    "\n",
    "    # Percorre a lista de dicionários\n",
    "    for board in data:\n",
    "        # Imprime as informações de cada dicionário\n",
    "        print(f'Name: {board[\"name\"]}')\n",
    "        print(f'URL: {board[\"url\"]}')\n",
    "        print(f'ID: {board[\"id\"]}')\n",
    "else:\n",
    "    print('An error occurred, call an adult.')"
   ]
  },
  {
   "cell_type": "code",
   "execution_count": 6,
   "id": "3ac7acdb",
   "metadata": {},
   "outputs": [
    {
     "name": "stdout",
     "output_type": "stream",
     "text": [
      "Name: Neps API Course\n",
      "Description: That's a test board for the Neps API Couse\n",
      "URL: https://trello.com/b/j8iAUf7g/neps-api-course\n",
      "ID: 63fd0195e8205944c22fbb3d\n"
     ]
    }
   ],
   "source": [
    "# Parâmetros da url\n",
    "parameters = {\n",
    "    'name': 'Neps API Course',\n",
    "    'desc': \"That's a test board for the Neps API Couse\"\n",
    "}\n",
    "\n",
    "# Requisição POST\n",
    "response = session.post('https://api.trello.com/1/boards', params=parameters)\n",
    "\n",
    "if response.status_code == 200:\n",
    "    # Dados do novo quadro\n",
    "    data = response.json()\n",
    "\n",
    "    print(f'Name: {data[\"name\"]}')\n",
    "    print(f'Description: {data[\"desc\"]}')\n",
    "    print(f'URL: {data[\"url\"]}')\n",
    "    print(f'ID: {data[\"id\"]}')\n",
    "else:\n",
    "    print('An error occurred, call an adult.')"
   ]
  },
  {
   "cell_type": "code",
   "execution_count": 8,
   "id": "5cda20a1",
   "metadata": {},
   "outputs": [
    {
     "name": "stdout",
     "output_type": "stream",
     "text": [
      "List name: Testing\n",
      "ID: 63fd02b7fa4df04906e30db4\n"
     ]
    }
   ],
   "source": [
    "parameters = {\n",
    "    'name': 'Testing',\n",
    "    'idBoard': '63fd0195e8205944c22fbb3d'\n",
    "}\n",
    "\n",
    "# Requisição POST\n",
    "response = session.post('https://api.trello.com/1/lists', params=parameters)\n",
    "\n",
    "if response.status_code == 200:\n",
    "    # Dados da nova lista\n",
    "    data = response.json()\n",
    "\n",
    "    print(f'List name: {data[\"name\"]}')\n",
    "    print(f'ID: {data[\"id\"]}')\n",
    "else:\n",
    "    print('An error occurred, call an adult.')\n"
   ]
  },
  {
   "cell_type": "code",
   "execution_count": 9,
   "id": "5a0dcf73",
   "metadata": {},
   "outputs": [
    {
     "name": "stdout",
     "output_type": "stream",
     "text": [
      "Card name: First Card\n",
      "ID: 63fd02f31844bc8ac81246b2\n",
      "Description: That's a card for testing\n"
     ]
    }
   ],
   "source": [
    "parameters = {\n",
    "    'name': 'First Card',\n",
    "    'desc': \"That's a card for testing\",\n",
    "    'idList': '63fd02b7fa4df04906e30db4'\n",
    "}\n",
    "\n",
    "# Requisição POST\n",
    "response = session.post('https://api.trello.com/1/cards', params=parameters)\n",
    "\n",
    "if response.status_code == 200:\n",
    "    # Dados do cartão criado\n",
    "    data = response.json()\n",
    "\n",
    "    print(f'Card name: {data[\"name\"]}')\n",
    "    print(f'ID: {data[\"id\"]}')\n",
    "    print(f'Description: {data[\"desc\"]}')\n",
    "else:\n",
    "    print('An error occurred, call an adult.')"
   ]
  },
  {
   "cell_type": "code",
   "execution_count": 10,
   "id": "167d3922",
   "metadata": {},
   "outputs": [
    {
     "name": "stdout",
     "output_type": "stream",
     "text": [
      "Card name: Edited Card\n",
      "ID: 63fd02f31844bc8ac81246b2\n",
      "Description: That's a test to edit\n"
     ]
    }
   ],
   "source": [
    "parameters = {\n",
    "    'name': 'Edited Card',\n",
    "    'desc': \"That's a test to edit\"\n",
    "}\n",
    "\n",
    "# Requisição PUT\n",
    "response = session.put('https://api.trello.com/1/cards/63fd02f31844bc8ac81246b2', params=parameters)\n",
    "\n",
    "if response.status_code == 200:\n",
    "    # Dados do cartão após modificação\n",
    "    data = response.json()\n",
    "\n",
    "    print(f'Card name: {data[\"name\"]}')\n",
    "    print(f'ID: {data[\"id\"]}')\n",
    "    print(f'Description: {data[\"desc\"]}')\n",
    "else:\n",
    "    print('An error occurred, call an adult.')"
   ]
  },
  {
   "cell_type": "code",
   "execution_count": 11,
   "id": "6820a3fc",
   "metadata": {},
   "outputs": [
    {
     "name": "stdout",
     "output_type": "stream",
     "text": [
      "Deleted\n"
     ]
    }
   ],
   "source": [
    "response = session.delete('https://api.trello.com/1/cards/63fd02f31844bc8ac81246b2', params=parameters)\n",
    "\n",
    "if response.status_code == 200:\n",
    "    print('Deleted')\n",
    "else:\n",
    "    print('An error occurred, call an adult.')"
   ]
  },
  {
   "cell_type": "code",
   "execution_count": null,
   "id": "12679ba4",
   "metadata": {},
   "outputs": [],
   "source": []
  }
 ],
 "metadata": {
  "kernelspec": {
   "display_name": "Python 3 (ipykernel)",
   "language": "python",
   "name": "python3"
  },
  "language_info": {
   "codemirror_mode": {
    "name": "ipython",
    "version": 3
   },
   "file_extension": ".py",
   "mimetype": "text/x-python",
   "name": "python",
   "nbconvert_exporter": "python",
   "pygments_lexer": "ipython3",
   "version": "3.9.12"
  }
 },
 "nbformat": 4,
 "nbformat_minor": 5
}
